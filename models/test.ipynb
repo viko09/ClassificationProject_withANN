{
 "cells": [
  {
   "cell_type": "code",
   "execution_count": 2,
   "outputs": [
    {
     "name": "stderr",
     "output_type": "stream",
     "text": [
      "/home/vikoluna/NeuralCatDog/venv/lib/python3.11/site-packages/pydantic/_internal/_fields.py:128: UserWarning: Field \"model_server_url\" has conflict with protected namespace \"model_\".\n",
      "\n",
      "You may be able to resolve this warning by setting `model_config['protected_namespaces'] = ()`.\n",
      "  warnings.warn(\n",
      "/home/vikoluna/NeuralCatDog/venv/lib/python3.11/site-packages/pydantic/_internal/_config.py:317: UserWarning: Valid config keys have changed in V2:\n",
      "* 'schema_extra' has been renamed to 'json_schema_extra'\n",
      "  warnings.warn(message, UserWarning)\n",
      "2023-10-01 15:47:42.167372: I tensorflow/tsl/cuda/cudart_stub.cc:28] Could not find cuda drivers on your machine, GPU will not be used.\n",
      "2023-10-01 15:47:42.253549: E tensorflow/compiler/xla/stream_executor/cuda/cuda_dnn.cc:9342] Unable to register cuDNN factory: Attempting to register factory for plugin cuDNN when one has already been registered\n",
      "2023-10-01 15:47:42.253610: E tensorflow/compiler/xla/stream_executor/cuda/cuda_fft.cc:609] Unable to register cuFFT factory: Attempting to register factory for plugin cuFFT when one has already been registered\n",
      "2023-10-01 15:47:42.253665: E tensorflow/compiler/xla/stream_executor/cuda/cuda_blas.cc:1518] Unable to register cuBLAS factory: Attempting to register factory for plugin cuBLAS when one has already been registered\n",
      "2023-10-01 15:47:42.266409: I tensorflow/tsl/cuda/cudart_stub.cc:28] Could not find cuda drivers on your machine, GPU will not be used.\n",
      "2023-10-01 15:47:42.267415: I tensorflow/core/platform/cpu_feature_guard.cc:182] This TensorFlow binary is optimized to use available CPU instructions in performance-critical operations.\n",
      "To enable the following instructions: AVX2 FMA, in other operations, rebuild TensorFlow with the appropriate compiler flags.\n",
      "2023-10-01 15:47:44.137497: W tensorflow/compiler/tf2tensorrt/utils/py_utils.cc:38] TF-TRT Warning: Could not find TensorRT\n"
     ]
    }
   ],
   "source": [
    "import mlflow\n",
    "from keras.preprocessing.image import ImageDataGenerator\n",
    "from keras.models import Sequential\n",
    "from keras.layers import Conv2D, Activation, MaxPooling2D, Flatten, Dense, Dropout"
   ],
   "metadata": {
    "collapsed": false,
    "ExecuteTime": {
     "end_time": "2023-10-01T21:47:45.638738252Z",
     "start_time": "2023-10-01T21:47:39.936239652Z"
    }
   },
   "id": "a9f8b123181b8907"
  },
  {
   "cell_type": "code",
   "execution_count": 3,
   "id": "initial_id",
   "metadata": {
    "collapsed": true,
    "ExecuteTime": {
     "end_time": "2023-10-01T21:47:49.192975021Z",
     "start_time": "2023-10-01T21:47:49.182557174Z"
    }
   },
   "outputs": [],
   "source": [
    "# Importamos los datos de entrenamiento y prueba de nuestra red\n",
    "train_dir = '/home/vikoluna/NeuralCatDog/data/train'\n",
    "test_dir = '/home/vikoluna/NeuralCatDog/data/test'\n",
    "\n",
    "# Esto es por perros y gatos (0 y 1 o sea seran 2 clases)\n",
    "num_class = 2\n",
    "# Es el número de épocas\n",
    "epoch = 10\n",
    "\n",
    "# Numero de imagenes\n",
    "num_train = 10001\n",
    "num_test = 2501\n",
    "\n",
    "# Como tenemos imagenes de distintos tamaños, vamos a ajustar las imagenes a nuevas dimensiones\n",
    "ih, iw = 150, 150\n",
    "# Definimos la forma, alto, ancho y canales RGB\n",
    "input_shape = (ih, iw, 3)\n",
    "\n",
    "# Definimos el tamaño del batch\n",
    "batch_size = 20\n",
    "\n",
    "epoch_steps = num_train // batch_size\n",
    "test_steps = num_test // batch_size"
   ]
  },
  {
   "cell_type": "code",
   "execution_count": 4,
   "outputs": [
    {
     "name": "stdout",
     "output_type": "stream",
     "text": [
      "Found 20000 images belonging to 2 classes.\n",
      "Found 20000 images belonging to 2 classes.\n"
     ]
    }
   ],
   "source": [
    "# Indica que reescale cada canal con valor entre 0 y 1\n",
    "gentrain = ImageDataGenerator(rescale=1. / 255.)\n",
    "\n",
    "train = gentrain.flow_from_directory(train_dir,\n",
    "                                     batch_size=batch_size,\n",
    "                                     target_size=(iw, ih),\n",
    "                                     class_mode='binary')\n",
    "\n",
    "gentest = ImageDataGenerator(rescale=1. / 255.)\n",
    "\n",
    "test = gentest.flow_from_directory(train_dir,\n",
    "                                     batch_size=batch_size,\n",
    "                                     target_size=(iw, ih),\n",
    "                                     class_mode='binary')"
   ],
   "metadata": {
    "collapsed": false,
    "ExecuteTime": {
     "end_time": "2023-10-01T21:47:54.263697587Z",
     "start_time": "2023-10-01T21:47:53.779068473Z"
    }
   },
   "id": "2acef10ad15a7234"
  },
  {
   "cell_type": "code",
   "execution_count": 5,
   "outputs": [
    {
     "name": "stderr",
     "output_type": "stream",
     "text": [
      "2023-10-01 15:48:09.111618: I tensorflow/compiler/xla/stream_executor/cuda/cuda_gpu_executor.cc:894] successful NUMA node read from SysFS had negative value (-1), but there must be at least one NUMA node, so returning NUMA node zero. See more at https://github.com/torvalds/linux/blob/v6.0/Documentation/ABI/testing/sysfs-bus-pci#L344-L355\n",
      "2023-10-01 15:48:09.757450: W tensorflow/core/common_runtime/gpu/gpu_device.cc:2211] Cannot dlopen some GPU libraries. Please make sure the missing libraries mentioned above are installed properly if you would like to use GPU. Follow the guide at https://www.tensorflow.org/install/gpu for how to download and setup the required libraries for your platform.\n",
      "Skipping registering GPU devices...\n"
     ]
    },
    {
     "name": "stdout",
     "output_type": "stream",
     "text": [
      "Epoch 1/10\n"
     ]
    },
    {
     "name": "stderr",
     "output_type": "stream",
     "text": [
      "/tmp/ipykernel_8852/318020962.py:35: UserWarning: `Model.fit_generator` is deprecated and will be removed in a future version. Please use `Model.fit`, which supports generators.\n",
      "  model.fit_generator(\n",
      "2023-10-01 15:48:11.675063: W tensorflow/tsl/framework/cpu_allocator_impl.cc:83] Allocation of 25482600 exceeds 10% of free system memory.\n",
      "2023-10-01 15:48:11.675966: W tensorflow/tsl/framework/cpu_allocator_impl.cc:83] Allocation of 25482600 exceeds 10% of free system memory.\n",
      "2023-10-01 15:48:11.691045: W tensorflow/tsl/framework/cpu_allocator_impl.cc:83] Allocation of 29036160 exceeds 10% of free system memory.\n",
      "2023-10-01 15:48:11.784865: W tensorflow/tsl/framework/cpu_allocator_impl.cc:83] Allocation of 31974000 exceeds 10% of free system memory.\n"
     ]
    },
    {
     "name": "stdout",
     "output_type": "stream",
     "text": [
      "  2/500 [..............................] - ETA: 2:20 - loss: 0.6971 - accuracy: 0.4750 "
     ]
    },
    {
     "name": "stderr",
     "output_type": "stream",
     "text": [
      "2023-10-01 15:48:11.966106: W tensorflow/tsl/framework/cpu_allocator_impl.cc:83] Allocation of 25482600 exceeds 10% of free system memory.\n"
     ]
    },
    {
     "name": "stdout",
     "output_type": "stream",
     "text": [
      "500/500 [==============================] - 145s 288ms/step - loss: 0.6972 - accuracy: 0.5025 - val_loss: 0.6930 - val_accuracy: 0.5096\n",
      "Epoch 2/10\n",
      "500/500 [==============================] - 118s 237ms/step - loss: 0.6939 - accuracy: 0.4982 - val_loss: 0.6932 - val_accuracy: 0.4964\n",
      "Epoch 3/10\n",
      "500/500 [==============================] - 119s 238ms/step - loss: 0.6936 - accuracy: 0.5011 - val_loss: 0.6932 - val_accuracy: 0.4872\n",
      "Epoch 4/10\n",
      "500/500 [==============================] - 125s 249ms/step - loss: 0.6934 - accuracy: 0.5026 - val_loss: 0.6932 - val_accuracy: 0.4968\n",
      "Epoch 5/10\n",
      "500/500 [==============================] - 117s 235ms/step - loss: 0.6933 - accuracy: 0.5032 - val_loss: 0.6932 - val_accuracy: 0.4924\n",
      "Epoch 6/10\n",
      "500/500 [==============================] - 118s 236ms/step - loss: 0.6933 - accuracy: 0.4973 - val_loss: 0.6932 - val_accuracy: 0.4984\n",
      "Epoch 7/10\n",
      "500/500 [==============================] - 117s 233ms/step - loss: 0.6933 - accuracy: 0.5005 - val_loss: 0.6931 - val_accuracy: 0.5044\n",
      "Epoch 8/10\n",
      "500/500 [==============================] - 115s 230ms/step - loss: 0.6934 - accuracy: 0.4950 - val_loss: 0.6931 - val_accuracy: 0.5100\n",
      "Epoch 9/10\n",
      "500/500 [==============================] - 120s 240ms/step - loss: 0.6932 - accuracy: 0.5009 - val_loss: 0.6931 - val_accuracy: 0.5064\n",
      "Epoch 10/10\n",
      "500/500 [==============================] - 120s 240ms/step - loss: 0.6931 - accuracy: 0.5072 - val_loss: 0.6931 - val_accuracy: 0.5056\n",
      "Unexpected exception formatting exception. Falling back to standard exception\n"
     ]
    },
    {
     "name": "stderr",
     "output_type": "stream",
     "text": [
      "Traceback (most recent call last):\n",
      "  File \"/home/vikoluna/NeuralCatDog/venv/lib/python3.11/site-packages/IPython/core/interactiveshell.py\", line 3526, in run_code\n",
      "    exec(code_obj, self.user_global_ns, self.user_ns)\n",
      "  File \"/tmp/ipykernel_8852/318020962.py\", line 44, in <module>\n",
      "    model.save()\n",
      "  File \"/home/vikoluna/NeuralCatDog/venv/lib/python3.11/site-packages/keras/src/utils/traceback_utils.py\", line 70, in error_handler\n",
      "    raise e.with_traceback(filtered_tb) from None\n",
      "  File \"/home/vikoluna/NeuralCatDog/venv/lib/python3.11/site-packages/keras/src/utils/traceback_utils.py\", line 67, in error_handler\n",
      "    filtered_tb = _process_traceback_frames(e.__traceback__)\n",
      "                  ^^^^^^^^^^^^^^^^^^^^^^^^^^^^^^^^^^^^^^^^^^\n",
      "TypeError: Model.save() missing 1 required positional argument: 'filepath'\n",
      "\n",
      "During handling of the above exception, another exception occurred:\n",
      "\n",
      "Traceback (most recent call last):\n",
      "  File \"/home/vikoluna/NeuralCatDog/venv/lib/python3.11/site-packages/IPython/core/interactiveshell.py\", line 2120, in showtraceback\n",
      "    stb = self.InteractiveTB.structured_traceback(\n",
      "          ^^^^^^^^^^^^^^^^^^^^^^^^^^^^^^^^^^^^^^^^\n",
      "  File \"/home/vikoluna/NeuralCatDog/venv/lib/python3.11/site-packages/IPython/core/ultratb.py\", line 1435, in structured_traceback\n",
      "    return FormattedTB.structured_traceback(\n",
      "           ^^^^^^^^^^^^^^^^^^^^^^^^^^^^^^^^^\n",
      "  File \"/home/vikoluna/NeuralCatDog/venv/lib/python3.11/site-packages/IPython/core/ultratb.py\", line 1326, in structured_traceback\n",
      "    return VerboseTB.structured_traceback(\n",
      "           ^^^^^^^^^^^^^^^^^^^^^^^^^^^^^^^\n",
      "  File \"/home/vikoluna/NeuralCatDog/venv/lib/python3.11/site-packages/IPython/core/ultratb.py\", line 1173, in structured_traceback\n",
      "    formatted_exception = self.format_exception_as_a_whole(etype, evalue, etb, number_of_lines_of_context,\n",
      "                          ^^^^^^^^^^^^^^^^^^^^^^^^^^^^^^^^^^^^^^^^^^^^^^^^^^^^^^^^^^^^^^^^^^^^^^^^^^^^^^^^\n",
      "  File \"/home/vikoluna/NeuralCatDog/venv/lib/python3.11/site-packages/IPython/core/ultratb.py\", line 1063, in format_exception_as_a_whole\n",
      "    self.get_records(etb, number_of_lines_of_context, tb_offset) if etb else []\n",
      "    ^^^^^^^^^^^^^^^^^^^^^^^^^^^^^^^^^^^^^^^^^^^^^^^^^^^^^^^^^^^^\n",
      "  File \"/home/vikoluna/NeuralCatDog/venv/lib/python3.11/site-packages/IPython/core/ultratb.py\", line 1160, in get_records\n",
      "    res = list(stack_data.FrameInfo.stack_data(etb, options=options))[tb_offset:]\n",
      "          ^^^^^^^^^^^^^^^^^^^^^^^^^^^^^^^^^^^^^^^^^^^^^^^^^^^^^^^^^^^\n",
      "  File \"/home/vikoluna/NeuralCatDog/venv/lib/python3.11/site-packages/stack_data/core.py\", line 597, in stack_data\n",
      "    yield from collapse_repeated(\n",
      "  File \"/home/vikoluna/NeuralCatDog/venv/lib/python3.11/site-packages/stack_data/utils.py\", line 83, in collapse_repeated\n",
      "    yield from map(mapper, original_group)\n",
      "  File \"/home/vikoluna/NeuralCatDog/venv/lib/python3.11/site-packages/stack_data/core.py\", line 587, in mapper\n",
      "    return cls(f, options)\n",
      "           ^^^^^^^^^^^^^^^\n",
      "  File \"/home/vikoluna/NeuralCatDog/venv/lib/python3.11/site-packages/stack_data/core.py\", line 551, in __init__\n",
      "    self.executing = Source.executing(frame_or_tb)\n",
      "                     ^^^^^^^^^^^^^^^^^^^^^^^^^^^^^\n",
      "  File \"/home/vikoluna/NeuralCatDog/venv/lib/python3.11/site-packages/executing/executing.py\", line 283, in executing\n",
      "    assert_(new_stmts <= stmts)\n",
      "  File \"/home/vikoluna/NeuralCatDog/venv/lib/python3.11/site-packages/executing/executing.py\", line 80, in assert_\n",
      "    raise AssertionError(str(message))\n",
      "AssertionError\n"
     ]
    }
   ],
   "source": [
    "# Comenzamos a crear nuestra arquitectura de red secuencial\n",
    "model = Sequential()\n",
    "\n",
    "# Comenzaremos agregando una capa de entrada\n",
    "model.add(Conv2D(10, (5, 5), input_shape=(ih, iw, 3)))\n",
    "model.add(Activation('tanh'))\n",
    "model.add(MaxPooling2D(pool_size=(2, 2)))\n",
    "\n",
    "# Capas ocultas\n",
    "model.add(Conv2D(10, (3, 3)))\n",
    "model.add(Activation('relu'))\n",
    "model.add(MaxPooling2D(pool_size=(2, 2)))\n",
    "\n",
    "model.add(Conv2D(20, (3, 3)))\n",
    "model.add(Activation('relu'))\n",
    "model.add(MaxPooling2D(pool_size=(2, 2)))\n",
    "\n",
    "# Capa de salida\n",
    "# Aplanamos la imagen\n",
    "model.add(Flatten())\n",
    "model.add(Dense(64))\n",
    "model.add(Activation('softmax'))\n",
    "# Regularización\n",
    "model.add(Dropout(0.3))\n",
    "model.add(Dense(1))\n",
    "model.add(Activation('sigmoid'))\n",
    "\n",
    "# Compilamos el modelo\n",
    "model.compile(loss='binary_crossentropy',\n",
    "              optimizer='adam',\n",
    "              metrics=['accuracy'])\n",
    "\n",
    "\n",
    "with mlflow.start_run() as run:\n",
    "    model.fit_generator(\n",
    "        train,\n",
    "        steps_per_epoch=epoch_steps,\n",
    "        epochs=epoch,\n",
    "        validation_data=test,\n",
    "        validation_steps=test_steps\n",
    "    )\n",
    "\n",
    "# Salvamos el modelo\n",
    "# model.save()"
   ],
   "metadata": {
    "collapsed": false,
    "ExecuteTime": {
     "end_time": "2023-10-01T22:09:14.901314096Z",
     "start_time": "2023-10-01T21:48:08.987418556Z"
    }
   },
   "id": "8b8e84548a3afe54"
  },
  {
   "cell_type": "code",
   "execution_count": 1,
   "outputs": [
    {
     "name": "stdout",
     "output_type": "stream",
     "text": [
      "Ancho: 500px\n",
      "Alto: 374px\n"
     ]
    }
   ],
   "source": [
    "from PIL import Image\n",
    "\n",
    "# Abre la imagen\n",
    "imagen = Image.open('/home/vikoluna/NeuralCatDog/data/test/cat/cat.10205.jpg')  # Reemplaza 'imagen.jpg' con la ruta de tu imagen\n",
    "\n",
    "# Obtiene el tamaño de la imagen (ancho x alto)\n",
    "ancho, alto = imagen.size\n",
    "\n",
    "# Muestra el tamaño de la imagen\n",
    "print(f\"Ancho: {ancho}px\")\n",
    "print(f\"Alto: {alto}px\")"
   ],
   "metadata": {
    "collapsed": false,
    "ExecuteTime": {
     "end_time": "2023-10-01T19:49:25.945319034Z",
     "start_time": "2023-10-01T19:49:25.850938194Z"
    }
   },
   "id": "127a3c6b02e3d38e"
  },
  {
   "cell_type": "code",
   "execution_count": null,
   "outputs": [],
   "source": [],
   "metadata": {
    "collapsed": false
   },
   "id": "11b409d203945015"
  }
 ],
 "metadata": {
  "kernelspec": {
   "display_name": "Python 3",
   "language": "python",
   "name": "python3"
  },
  "language_info": {
   "codemirror_mode": {
    "name": "ipython",
    "version": 2
   },
   "file_extension": ".py",
   "mimetype": "text/x-python",
   "name": "python",
   "nbconvert_exporter": "python",
   "pygments_lexer": "ipython2",
   "version": "2.7.6"
  }
 },
 "nbformat": 4,
 "nbformat_minor": 5
}
